{
 "cells": [
  {
   "cell_type": "code",
   "execution_count": 1,
   "id": "0974b070-bda8-44b2-8c46-fe38f016d830",
   "metadata": {},
   "outputs": [],
   "source": [
    "import yfinance as yf\n",
    "from datetime import datetime, timedelta"
   ]
  },
  {
   "cell_type": "code",
   "execution_count": 5,
   "id": "563aa442-6680-4b1e-8562-a4dc20de02e2",
   "metadata": {},
   "outputs": [],
   "source": [
    "#real_time data for stock\n",
    "def get_realtime_data(stock_symbol):\n",
    "    stock = yf.Ticker(stock_symbol)\n",
    "    real_time_data = stock.history(period=\"1d\", interval=\"1m\") \n",
    "    return real_time_data.tail()  \n",
    "\n",
    "#3month data for stock\n",
    "def get_historical_data(stock_symbol, months=3):\n",
    "    stock = yf.Ticker(stock_symbol)\n",
    "    end_date = datetime.now()\n",
    "    start_date = end_date - timedelta(days=months * 30)  \n",
    "    historical_data = stock.history(start=start_date, end=end_date)\n",
    "    return historical_data"
   ]
  },
  {
   "cell_type": "code",
   "execution_count": 6,
   "id": "8d8648a9-b1c0-4c21-a249-afdfaa19ca74",
   "metadata": {},
   "outputs": [
    {
     "name": "stdout",
     "output_type": "stream",
     "text": [
      "Real-Time Data:\n",
      "                                   Open         High          Low        Close  \\\n",
      "Datetime                                                                        \n",
      "2024-10-30 15:25:00+05:30  4080.500000  4080.550049  4078.300049  4078.300049   \n",
      "2024-10-30 15:26:00+05:30  4078.149902  4078.149902  4075.000000  4075.000000   \n",
      "2024-10-30 15:27:00+05:30  4075.449951  4076.100098  4074.250000  4075.149902   \n",
      "2024-10-30 15:28:00+05:30  4073.449951  4073.800049  4069.000000  4069.000000   \n",
      "2024-10-30 15:29:00+05:30  4067.949951  4075.000000  4067.949951  4075.000000   \n",
      "\n",
      "                           Volume  Dividends  Stock Splits  \n",
      "Datetime                                                    \n",
      "2024-10-30 15:25:00+05:30    8764        0.0           0.0  \n",
      "2024-10-30 15:26:00+05:30    9032        0.0           0.0  \n",
      "2024-10-30 15:27:00+05:30   10975        0.0           0.0  \n",
      "2024-10-30 15:28:00+05:30    8638        0.0           0.0  \n",
      "2024-10-30 15:29:00+05:30    2905        0.0           0.0  \n",
      "\n",
      "Historical Data (3 Months):\n",
      "                                   Open         High          Low        Close  \\\n",
      "Date                                                                            \n",
      "2024-08-01 00:00:00+05:30  4388.693133  4408.544606  4354.426633  4386.398926   \n",
      "2024-08-02 00:00:00+05:30  4354.377224  4387.296914  4259.608418  4272.626465   \n",
      "2024-08-05 00:00:00+05:30  4228.683881  4228.683881  4100.496601  4144.937988   \n",
      "2024-08-06 00:00:00+05:30  4160.799437  4247.886781  4150.673749  4161.048828   \n",
      "2024-08-07 00:00:00+05:30  4217.710296  4234.619239  4170.126189  4190.227539   \n",
      "...                                ...          ...          ...          ...   \n",
      "2024-10-24 00:00:00+05:30  4004.000000  4079.000000  4004.000000  4047.899902   \n",
      "2024-10-25 00:00:00+05:30  4057.050049  4092.000000  4032.699951  4057.550049   \n",
      "2024-10-28 00:00:00+05:30  4068.949951  4134.000000  4051.000000  4090.850098   \n",
      "2024-10-29 00:00:00+05:30  4095.850098  4103.500000  4060.100098  4075.250000   \n",
      "2024-10-30 00:00:00+05:30  4075.000000  4107.000000  4060.050049  4084.649902   \n",
      "\n",
      "                            Volume  Dividends  Stock Splits  \n",
      "Date                                                         \n",
      "2024-08-01 00:00:00+05:30  2202244        0.0           0.0  \n",
      "2024-08-02 00:00:00+05:30  2811282        0.0           0.0  \n",
      "2024-08-05 00:00:00+05:30  2787771        0.0           0.0  \n",
      "2024-08-06 00:00:00+05:30  2203067        0.0           0.0  \n",
      "2024-08-07 00:00:00+05:30  1237666        0.0           0.0  \n",
      "...                            ...        ...           ...  \n",
      "2024-10-24 00:00:00+05:30  2676744        0.0           0.0  \n",
      "2024-10-25 00:00:00+05:30  1759676        0.0           0.0  \n",
      "2024-10-28 00:00:00+05:30  1532534        0.0           0.0  \n",
      "2024-10-29 00:00:00+05:30  1445885        0.0           0.0  \n",
      "2024-10-30 00:00:00+05:30  1934976        0.0           0.0  \n",
      "\n",
      "[63 rows x 7 columns]\n"
     ]
    }
   ],
   "source": [
    "if __name__ == \"__main__\":\n",
    "    stock_symbol = 'TCS.NS' #USe '.NS' for nifty and '.BO' for sensex\n",
    "    \n",
    "    # Fetch real-time data\n",
    "    real_time_data = get_realtime_data(stock_symbol)\n",
    "    print(\"Real-Time Data:\\n\", real_time_data)\n",
    "    \n",
    "    # Fetch 3-month historical data\n",
    "    historical_data = get_historical_data(stock_symbol)\n",
    "    print(\"\\nHistorical Data (3 Months):\\n\", historical_data)"
   ]
  },
  {
   "cell_type": "code",
   "execution_count": null,
   "id": "7991ddcf-8476-471e-9732-9f69a8cd076c",
   "metadata": {},
   "outputs": [],
   "source": []
  }
 ],
 "metadata": {
  "kernelspec": {
   "display_name": "Python 3 (ipykernel)",
   "language": "python",
   "name": "python3"
  },
  "language_info": {
   "codemirror_mode": {
    "name": "ipython",
    "version": 3
   },
   "file_extension": ".py",
   "mimetype": "text/x-python",
   "name": "python",
   "nbconvert_exporter": "python",
   "pygments_lexer": "ipython3",
   "version": "3.9.11"
  }
 },
 "nbformat": 4,
 "nbformat_minor": 5
}
